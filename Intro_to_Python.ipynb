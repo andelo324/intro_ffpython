{
  "nbformat": 4,
  "nbformat_minor": 0,
  "metadata": {
    "colab": {
      "provenance": [],
      "authorship_tag": "ABX9TyNOA64Y3PdIQ6OyklVzO0pg",
      "include_colab_link": true
    },
    "kernelspec": {
      "name": "python3",
      "display_name": "Python 3"
    },
    "language_info": {
      "name": "python"
    }
  },
  "cells": [
    {
      "cell_type": "markdown",
      "metadata": {
        "id": "view-in-github",
        "colab_type": "text"
      },
      "source": [
        "<a href=\"https://colab.research.google.com/github/andelo324/intro_ffpython/blob/main/Intro_to_Python.ipynb\" target=\"_parent\"><img src=\"https://colab.research.google.com/assets/colab-badge.svg\" alt=\"Open In Colab\"/></a>"
      ]
    },
    {
      "cell_type": "code",
      "source": [
        "players = [{\n",
        "    'name': 'A.J. Brown',\n",
        "    'catches': 88,\n",
        "    'targets': 145\n",
        "    },\n",
        "    {\n",
        "      'name': 'CeeDee Lamb',\n",
        "      'catches': 107,\n",
        "      'targets': 156  \n",
        "    },\n",
        "    {\n",
        "      'name': 'Justin Jefferson',\n",
        "      'catches': 128,\n",
        "      'targets': 184\n",
        "    },\n",
        "  ]"
      ],
      "metadata": {
        "id": "-QcLKH4yKRYa"
      },
      "execution_count": 25,
      "outputs": []
    },
    {
      "cell_type": "code",
      "source": [
        "for player in players:\n",
        "  name = player[\"name\"]\n",
        "  catches = player[\"catches\"]\n",
        "  targets = player[\"targets\"]\n",
        "  catch_rate = catches/targets\n",
        "  print(name + ' has a catch rate of '+ str(f\"{catch_rate:.2%}\"))"
      ],
      "metadata": {
        "colab": {
          "base_uri": "https://localhost:8080/"
        },
        "id": "XWWdjQUwK44e",
        "outputId": "7489f144-2e68-42c2-97fe-0e8ee893b0ac"
      },
      "execution_count": 32,
      "outputs": [
        {
          "output_type": "stream",
          "name": "stdout",
          "text": [
            "A.J. Brown has a catch rate of 60.69%\n",
            "CeeDee Lamb has a catch rate of 68.59%\n",
            "Justin Jefferson has a catch rate of 69.57%\n"
          ]
        }
      ]
    },
    {
      "cell_type": "code",
      "source": [],
      "metadata": {
        "id": "UEV7nfUjLqK5"
      },
      "execution_count": null,
      "outputs": []
    }
  ]
}